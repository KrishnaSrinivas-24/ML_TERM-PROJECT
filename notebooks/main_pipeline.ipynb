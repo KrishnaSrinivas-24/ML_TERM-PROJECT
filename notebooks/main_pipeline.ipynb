{
 "cells": [
  {
   "cell_type": "code",
   "execution_count": 12,
   "id": "63330ecb",
   "metadata": {},
   "outputs": [],
   "source": [
    "import os\n",
    "import cv2\n",
    "import numpy as np\n",
    "import matplotlib.pyplot as plt\n",
    "from sklearn.model_selection import train_test_split\n",
    "from sklearn.preprocessing import LabelEncoder\n",
    "import time"
   ]
  },
  {
   "cell_type": "code",
   "execution_count": 13,
   "id": "57661cc6",
   "metadata": {},
   "outputs": [
    {
     "name": "stdout",
     "output_type": "stream",
     "text": [
      "Step 1: Loading and Preprocessing Data...\n"
     ]
    }
   ],
   "source": [
    "# --- 1. Data Loading and Preprocessing ---\n",
    "\n",
    "print(\"Step 1: Loading and Preprocessing Data...\")\n",
    "start_time = time.time()\n",
    "\n",
    "# Define the path to your data directory\n",
    "data_dir = '../data' # Using a relative path from the notebooks folder"
   ]
  },
  {
   "cell_type": "code",
   "execution_count": 14,
   "id": "22235681",
   "metadata": {},
   "outputs": [
    {
     "name": "stdout",
     "output_type": "stream",
     "text": [
      "Found 10 classes: ['AnnualCrop', 'Forest', 'HerbaceousVegetation', 'Highway', 'Industrial', 'Pasture', 'PermanentCrop', 'Residential', 'River', 'SeaLake']\n"
     ]
    }
   ],
   "source": [
    "# Get the list of class names from the folder names\n",
    "class_names = sorted([d for d in os.listdir(data_dir) if os.path.isdir(os.path.join(data_dir, d))])\n",
    "print(f\"Found {len(class_names)} classes: {class_names}\")"
   ]
  },
  {
   "cell_type": "code",
   "execution_count": 15,
   "id": "b0021255",
   "metadata": {},
   "outputs": [],
   "source": [
    "# --- FIX: Initialize the lists here, in the same cell as the loop ---\n",
    "images = []\n",
    "labels = []\n",
    "# Loop over each class folder\n",
    "for class_name in class_names:\n",
    "    class_path = os.path.join(data_dir, class_name)\n",
    "    image_files = os.listdir(class_path)\n",
    "    \n",
    "    # Loop over each image in the class folder\n",
    "    for image_file in image_files:\n",
    "        image_path = os.path.join(class_path, image_file)\n",
    "        \n",
    "        # Read the image using OpenCV\n",
    "        image = cv2.imread(image_path)\n",
    "        \n",
    "        if image is not None:\n",
    "            # OpenCV reads images in BGR format, convert it to RGB for consistency\n",
    "            image = cv2.cvtColor(image, cv2.COLOR_BGR2RGB)\n",
    "            \n",
    "            # Resize the image to a standard 64x64\n",
    "            image = cv2.resize(image, (64, 64))\n",
    "            \n",
    "            # Normalize pixel values to be between 0 and 1\n",
    "            image = image.astype('float32') / 255.0\n",
    "            \n",
    "            images.append(image)\n",
    "            labels.append(class_name)"
   ]
  },
  {
   "cell_type": "code",
   "execution_count": 16,
   "id": "b57f5835",
   "metadata": {},
   "outputs": [],
   "source": [
    "# Convert lists to NumPy arrays for efficient processing\n",
    "images = np.array(images)\n",
    "labels = np.array(labels)\n",
    "\n",
    "# Use LabelEncoder to convert string labels to integers (e.g., 'Forest' -> 1)\n",
    "label_encoder = LabelEncoder()\n",
    "labels_encoded = label_encoder.fit_transform(labels)"
   ]
  },
  {
   "cell_type": "code",
   "execution_count": 17,
   "id": "e071bab8",
   "metadata": {},
   "outputs": [
    {
     "name": "stdout",
     "output_type": "stream",
     "text": [
      "Data loading complete. Took 46.33 seconds.\n",
      "Total images loaded: 27000\n",
      "Shape of image data: (27000, 64, 64, 3)\n",
      "Shape of labels: (27000,)\n"
     ]
    },
    {
     "data": {
      "image/png": "[encoded data removed]",
      "text/plain": [
       "<Figure size 640x480 with 1 Axes>"
      ]
     },
     "metadata": {},
     "output_type": "display_data"
    }
   ],
   "source": [
    "end_time = time.time()\n",
    "print(f\"Data loading complete. Took {end_time - start_time:.2f} seconds.\")\n",
    "print(f\"Total images loaded: {len(images)}\")\n",
    "print(f\"Shape of image data: {images.shape}\")\n",
    "print(f\"Shape of labels: {labels_encoded.shape}\")\n",
    "\n",
    "# Optional: Display a random image to verify\n",
    "plt.imshow(images[0])\n",
    "plt.title(f\"Label: {labels[0]}\")\n",
    "plt.axis('off')\n",
    "plt.show()"
   ]
  },
  {
   "cell_type": "code",
   "execution_count": 18,
   "id": "bd78735d",
   "metadata": {},
   "outputs": [
    {
     "name": "stdout",
     "output_type": "stream",
     "text": [
      "\n",
      "Step 2: Extracting Features and Splitting Data...\n",
      "Feature extraction complete. Shape of feature data: (27000, 96)\n",
      "Data splitting complete. Took 0.92 seconds.\n",
      "Shape of X_train: (21600, 96)\n",
      "Shape of X_test: (5400, 96)\n",
      "Shape of y_train: (21600,)\n",
      "Shape of y_test: (5400,)\n"
     ]
    }
   ],
   "source": [
    "# --- 2. Feature Extraction and Data Splitting ---\n",
    "\n",
    "print(\"\\nStep 2: Extracting Features and Splitting Data...\")\n",
    "start_time = time.time()\n",
    "\n",
    "# We need to reshape the images from (27000, 64, 64, 3) to (27000, 12288) to feed them to some models\n",
    "# but for histograms, we can iterate through the original images array.\n",
    "features = []\n",
    "for image in images:\n",
    "    # Calculate histogram for each color channel and concatenate them\n",
    "    hist_r = cv2.calcHist([image], [0], None, [32], [0, 1])\n",
    "    hist_g = cv2.calcHist([image], [1], None, [32], [0, 1])\n",
    "    hist_b = cv2.calcHist([image], [2], None, [32], [0, 1])\n",
    "    \n",
    "    # Concatenate the histograms into a single feature vector\n",
    "    hist = np.concatenate((hist_r, hist_g, hist_b)).flatten()\n",
    "    features.append(hist)\n",
    "\n",
    "features = np.array(features)\n",
    "\n",
    "print(f\"Feature extraction complete. Shape of feature data: {features.shape}\")\n",
    "\n",
    "# Split the data into training and testing sets (80% train, 20% test)\n",
    "X_train, X_test, y_train, y_test = train_test_split(\n",
    "    features, \n",
    "    labels_encoded, \n",
    "    test_size=0.2, \n",
    "    random_state=42,\n",
    "    stratify=labels_encoded # Ensures the class distribution is the same in train and test sets\n",
    ")\n",
    "\n",
    "end_time = time.time()\n",
    "print(f\"Data splitting complete. Took {end_time - start_time:.2f} seconds.\")\n",
    "print(f\"Shape of X_train: {X_train.shape}\")\n",
    "print(f\"Shape of X_test: {X_test.shape}\")\n",
    "print(f\"Shape of y_train: {y_train.shape}\")\n",
    "print(f\"Shape of y_test: {y_test.shape}\")"
   ]
  },
  {
   "cell_type": "code",
   "execution_count": 19,
   "id": "6c5a020d",
   "metadata": {},
   "outputs": [
    {
     "name": "stdout",
     "output_type": "stream",
     "text": [
      "\n",
      "Step 3: Applying PCA for Dimensionality Reduction...\n",
      "PCA object saved to '../models\\pca.joblib'\n",
      "\n",
      "Step 4: Saving processed data...\n",
      "Processed data saved. This notebook is complete.\n",
      "Files saved in '../results' directory.\n"
     ]
    }
   ],
   "source": [
    "# --- 3. Dimensionality Reduction with PCA ---\n",
    "print(\"\\nStep 3: Applying PCA for Dimensionality Reduction...\")\n",
    "n_components = 50\n",
    "pca = PCA(n_components=n_components)\n",
    "X_train_pca = pca.fit_transform(X_train)\n",
    "X_test_pca = pca.transform(X_test)\n",
    "\n",
    "model_dir = '../models'\n",
    "if not os.path.exists(model_dir):\n",
    "    os.makedirs(model_dir)\n",
    "joblib.dump(pca, os.path.join(model_dir, 'pca.joblib'))\n",
    "print(f\"PCA object saved to '{os.path.join(model_dir, 'pca.joblib')}'\")\n",
    "\n",
    "\n",
    "# --- 4. NEW STEP: Save Processed Data for the Next Notebook ---\n",
    "print(\"\\nStep 4: Saving processed data...\")\n",
    "results_dir = '../results'\n",
    "if not os.path.exists(results_dir):\n",
    "    os.makedirs(results_dir)\n",
    "\n",
    "# Save the arrays to files\n",
    "np.save(os.path.join(results_dir, 'X_train_pca.npy'), X_train_pca)\n",
    "np.save(os.path.join(results_dir, 'X_test_pca.npy'), X_test_pca)\n",
    "np.save(os.path.join(results_dir, 'y_train.npy'), y_train)\n",
    "np.save(os.path.join(results_dir, 'y_test.npy'), y_test)\n",
    "# Also save the class names for later use\n",
    "np.save(os.path.join(results_dir, 'class_names.npy'), np.array(class_names))\n",
    "\n",
    "\n",
    "print(\"Processed data saved. This notebook is complete.\")\n",
    "print(f\"Files saved in '{results_dir}' directory.\")\n"
   ]
  }
 ],
 "metadata": {
  "kernelspec": {
   "display_name": ".venv",
   "language": "python",
   "name": "python3"
  },
  "language_info": {
   "codemirror_mode": {
    "name": "ipython",
    "version": 3
   },
   "file_extension": ".py",
   "mimetype": "text/x-python",
   "name": "python",
   "nbconvert_exporter": "python",
   "pygments_lexer": "ipython3",
   "version": "3.12.5"
  }
 },
 "nbformat": 4,
 "nbformat_minor": 5
}
